{
 "cells": [
  {
   "cell_type": "code",
   "execution_count": 5,
   "id": "86e73826-271d-4bdb-8eca-ba60c7a332d3",
   "metadata": {},
   "outputs": [],
   "source": [
    "## 1. Define a class Stack to implement stack data structure using list. Define __init__() method to create an empty list object as instance object member of Stack.and\n",
    "class Stack:\n",
    "    def __init__(self): \n",
    "        self.list = [] \n",
    "\n",
    "\n",
    "\n",
    "## 2. Define a method is_empty() to check if the stack is empty in stack class.\n",
    "    def is_empty(self): \n",
    "        return len(self.list) == 0 \n",
    "\n",
    "## 3. In stack class, define a push() method to add data onto the stack\n",
    "    def push(self, data): \n",
    "        self.list.append(data)\n",
    "        \n",
    "\n",
    "## 4. In stack class, define pop() method to remove top element from the stack.\n",
    "    def pop(self):\n",
    "        return self.list.pop()\n",
    "        \n",
    "\n",
    "## 5. In Stack class, define peek() method to return top element on the stack.\n",
    "    def peek(self):\n",
    "        return self.list[-1]\n",
    "\n",
    "## 6. In Stack class, define size() method to return size of the stack that is number of items present in the stack.\n",
    "    def size(self): \n",
    "        return len(self.list)\n",
    "    \n"
   ]
  },
  {
   "cell_type": "code",
   "execution_count": 6,
   "id": "09f13933-801d-4357-b184-ce290e496be2",
   "metadata": {},
   "outputs": [
    {
     "name": "stdout",
     "output_type": "stream",
     "text": [
      "Top element is:  4\n",
      "Remove element is:  4\n",
      "Top element is:  3\n"
     ]
    }
   ],
   "source": [
    "\n",
    "s1 = Stack()\n",
    "\n",
    "s1.push(1)\n",
    "s1.push(2)\n",
    "s1.push(3)\n",
    "s1.push(4)\n",
    "print(\"Top element is: \",s1.peek())\n",
    "print(\"Remove element is: \",s1.pop())\n",
    "print(\"Top element is: \",s1.peek())"
   ]
  },
  {
   "cell_type": "code",
   "execution_count": null,
   "id": "6639f4de-2927-43d6-a430-67970108435f",
   "metadata": {},
   "outputs": [],
   "source": []
  }
 ],
 "metadata": {
  "kernelspec": {
   "display_name": "Python 3 (ipykernel)",
   "language": "python",
   "name": "python3"
  },
  "language_info": {
   "codemirror_mode": {
    "name": "ipython",
    "version": 3
   },
   "file_extension": ".py",
   "mimetype": "text/x-python",
   "name": "python",
   "nbconvert_exporter": "python",
   "pygments_lexer": "ipython3",
   "version": "3.11.9"
  }
 },
 "nbformat": 4,
 "nbformat_minor": 5
}
