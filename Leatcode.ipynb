{
 "cells": [
  {
   "cell_type": "markdown",
   "metadata": {},
   "source": [
    "#### 1.Two Sum:"
   ]
  },
  {
   "cell_type": "code",
   "execution_count": null,
   "metadata": {},
   "outputs": [],
   "source": [
    "class Solution:\n",
    "    def twoSum(self, nums: List[int], target: int) -> List[int]:\n",
    "        complement = {}\n",
    "        for i in range(0,len(nums)):\n",
    "            num1 = nums[i]\n",
    "            num2 = target - nums[i]\n",
    "\n",
    "            if num2 in complement:\n",
    "                return i, nums.index(num2)\n",
    "            complement[num1] =i\n"
   ]
  },
  {
   "cell_type": "markdown",
   "metadata": {},
   "source": [
    "#### 9. Palindrome Number"
   ]
  },
  {
   "cell_type": "code",
   "execution_count": null,
   "metadata": {},
   "outputs": [],
   "source": [
    "class Solution:\n",
    "    def isPalindrome(self, x: int) -> bool:\n",
    "        number = str(x)\n",
    "        middle = len(number) //2\n",
    "        i = 0\n",
    "        while i < middle:\n",
    "            if number[i] != number[-i-1]:\n",
    "                return False\n",
    "            i+=1\n",
    "        return True"
   ]
  },
  {
   "cell_type": "markdown",
   "metadata": {},
   "source": [
    "#### 13. Roman to Integer"
   ]
  },
  {
   "cell_type": "code",
   "execution_count": null,
   "metadata": {},
   "outputs": [],
   "source": [
    "\n",
    "class Solution:\n",
    "    def romanToInt(self, s: str) -> int:\n",
    "        roman_values = {\n",
    "            'I': 1, 'V': 5, 'X': 10, 'L': 50,\n",
    "            'C': 100, 'D': 500, 'M': 1000\n",
    "        }\n",
    "        \n",
    "        my_list = []\n",
    "        for i in s:\n",
    "            my_list.append(roman_values[i])\n",
    "         \n",
    "        \n",
    "        for i in range(len(my_list)-1):\n",
    "            if my_list[i] < my_list[i+1]:\n",
    "                my_list[i] = -(my_list[i])\n",
    "            \n",
    "        \n",
    "        result = 0\n",
    "        for i in my_list:\n",
    "            result+=i \n",
    "        return result\n",
    "    \n"
   ]
  },
  {
   "cell_type": "markdown",
   "metadata": {},
   "source": [
    "#### 14. Longest Common Prefix"
   ]
  },
  {
   "cell_type": "code",
   "execution_count": null,
   "metadata": {},
   "outputs": [],
   "source": [
    "class Solution:\n",
    "    def longestCommonPrefix(self, strs: List[str]) -> str:\n",
    "        if not strs:\n",
    "            return \"\"\n",
    "        \n",
    "        # [\"flower\",\"flow\",\"flight\"]\n",
    "        longest_common_prefix = \"\"\n",
    "\n",
    "        for i in range(len(strs[0])):\n",
    "            letter = strs[0][i]\n",
    "\n",
    "            for word in strs:\n",
    "                if i>= len(word) or word[i] != letter:\n",
    "                    return longest_common_prefix\n",
    "            longest_common_prefix+=letter\n",
    "        return longest_common_prefix"
   ]
  },
  {
   "cell_type": "markdown",
   "metadata": {},
   "source": [
    "#### 20. Valid Parentheses"
   ]
  },
  {
   "cell_type": "code",
   "execution_count": null,
   "metadata": {},
   "outputs": [],
   "source": [
    "class Solution:\n",
    "    def isValid(self, s: str) -> bool:\n",
    "        my_dict = {\n",
    "            ')':'(',\n",
    "            '}':'{',\n",
    "            ']':'['\n",
    "        }\n",
    "        my_list = []\n",
    "\n",
    "        for i in s:\n",
    "            if i in my_dict:\n",
    "                if my_list and (my_list[-1] == my_dict[i]):\n",
    "                    my_list.pop()\n",
    "                else:\n",
    "                    return False\n",
    "            else:\n",
    "                my_list.append(i)\n",
    "\n",
    "        if my_list:\n",
    "            return False\n",
    "        return True\n",
    "       \n",
    "\n",
    "    "
   ]
  },
  {
   "cell_type": "markdown",
   "metadata": {},
   "source": [
    "#### 26. Remove Duplicates from Sorted Array"
   ]
  },
  {
   "cell_type": "code",
   "execution_count": null,
   "metadata": {},
   "outputs": [],
   "source": [
    "\n",
    "class Solution:\n",
    "    def removeDuplicates(self, nums: List[int]) -> int:\n",
    "        if not nums:  \n",
    "            return 0\n",
    "\n",
    "        left = 0        \n",
    "        for i in range(1, len(nums)):\n",
    "            if nums[left] == nums[i]:\n",
    "                continue\n",
    "            else:\n",
    "                nums[left+1],nums[i] = nums[i],nums[left+1]\n",
    "                left+=1\n",
    "        return left+1\n",
    "                "
   ]
  },
  {
   "cell_type": "markdown",
   "metadata": {},
   "source": [
    "#### 27. Remove Element"
   ]
  },
  {
   "cell_type": "code",
   "execution_count": null,
   "metadata": {},
   "outputs": [],
   "source": [
    "class Solution:\n",
    "    def removeElement(self, nums: List[int], val: int) -> int:\n",
    "        index = 0\n",
    "        for i in range(len(nums)):\n",
    "            if nums[i] != val:\n",
    "                nums[index] = nums[i] \n",
    "                index += 1  \n",
    "        return index \n",
    "    \n",
    "\n"
   ]
  }
 ],
 "metadata": {
  "kernelspec": {
   "display_name": "Python 3",
   "language": "python",
   "name": "python3"
  },
  "language_info": {
   "codemirror_mode": {
    "name": "ipython",
    "version": 3
   },
   "file_extension": ".py",
   "mimetype": "text/x-python",
   "name": "python",
   "nbconvert_exporter": "python",
   "pygments_lexer": "ipython3",
   "version": "3.11.9"
  }
 },
 "nbformat": 4,
 "nbformat_minor": 2
}
