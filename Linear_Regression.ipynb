{
 "cells": [
  {
   "cell_type": "code",
   "execution_count": 131,
   "metadata": {},
   "outputs": [],
   "source": [
    "import random\n",
    "import pandas as pd \n",
    "import matplotlib.pyplot as plt \n",
    "import functools\n",
    "import numpy as np\n",
    "from sklearn.linear_model import SGDRegressor\n",
    "from sklearn.preprocessing import MinMaxScaler\n",
    "from sklearn.metrics import mean_squared_error"
   ]
  },
  {
   "cell_type": "code",
   "execution_count": 96,
   "metadata": {},
   "outputs": [],
   "source": [
    "# generating the dataset\n",
    "def generate_data():\n",
    "    x_data = []\n",
    "    y_data = []\n",
    "    \n",
    "    m = 5\n",
    "    c = 10\n",
    "    for i in range(0, 100):\n",
    "        x = random.randint(1, 100)       \n",
    "        x_data.append(x) \n",
    "        \n",
    "        y = m*x + c + random.randint(-100,100)\n",
    "        y_data.append(y)\n",
    "\n",
    "    data = pd.DataFrame({'x_data' : x_data,'y_data' : y_data})\n",
    "    return data\n",
    "\n",
    "\n",
    "df = generate_data()\n",
    "\n"
   ]
  },
  {
   "cell_type": "code",
   "execution_count": 97,
   "metadata": {},
   "outputs": [
    {
     "data": {
      "text/html": [
       "<div>\n",
       "<style scoped>\n",
       "    .dataframe tbody tr th:only-of-type {\n",
       "        vertical-align: middle;\n",
       "    }\n",
       "\n",
       "    .dataframe tbody tr th {\n",
       "        vertical-align: top;\n",
       "    }\n",
       "\n",
       "    .dataframe thead th {\n",
       "        text-align: right;\n",
       "    }\n",
       "</style>\n",
       "<table border=\"1\" class=\"dataframe\">\n",
       "  <thead>\n",
       "    <tr style=\"text-align: right;\">\n",
       "      <th></th>\n",
       "      <th>x_data</th>\n",
       "      <th>y_data</th>\n",
       "    </tr>\n",
       "  </thead>\n",
       "  <tbody>\n",
       "    <tr>\n",
       "      <th>0</th>\n",
       "      <td>56</td>\n",
       "      <td>324</td>\n",
       "    </tr>\n",
       "    <tr>\n",
       "      <th>1</th>\n",
       "      <td>90</td>\n",
       "      <td>391</td>\n",
       "    </tr>\n",
       "    <tr>\n",
       "      <th>2</th>\n",
       "      <td>9</td>\n",
       "      <td>-13</td>\n",
       "    </tr>\n",
       "    <tr>\n",
       "      <th>3</th>\n",
       "      <td>88</td>\n",
       "      <td>503</td>\n",
       "    </tr>\n",
       "    <tr>\n",
       "      <th>4</th>\n",
       "      <td>76</td>\n",
       "      <td>449</td>\n",
       "    </tr>\n",
       "  </tbody>\n",
       "</table>\n",
       "</div>"
      ],
      "text/plain": [
       "   x_data  y_data\n",
       "0      56     324\n",
       "1      90     391\n",
       "2       9     -13\n",
       "3      88     503\n",
       "4      76     449"
      ]
     },
     "execution_count": 97,
     "metadata": {},
     "output_type": "execute_result"
    }
   ],
   "source": [
    "df.head()"
   ]
  },
  {
   "cell_type": "code",
   "execution_count": 98,
   "metadata": {},
   "outputs": [
    {
     "data": {
      "text/plain": [
       "99"
      ]
     },
     "execution_count": 98,
     "metadata": {},
     "output_type": "execute_result"
    }
   ],
   "source": [
    "df['x_data'].max()"
   ]
  },
  {
   "cell_type": "code",
   "execution_count": 99,
   "metadata": {},
   "outputs": [
    {
     "data": {
      "text/plain": [
       "573"
      ]
     },
     "execution_count": 99,
     "metadata": {},
     "output_type": "execute_result"
    }
   ],
   "source": [
    "df['y_data'].max()"
   ]
  },
  {
   "cell_type": "code",
   "execution_count": 100,
   "metadata": {},
   "outputs": [
    {
     "data": {
      "text/plain": [
       "<matplotlib.collections.PathCollection at 0x1a58769ca90>"
      ]
     },
     "execution_count": 100,
     "metadata": {},
     "output_type": "execute_result"
    },
    {
     "data": {
      "image/png": "[encoded data removed]",
      "text/plain": [
       "<Figure size 640x480 with 1 Axes>"
      ]
     },
     "metadata": {},
     "output_type": "display_data"
    }
   ],
   "source": [
    "plt.scatter(df['x_data'], df['y_data'], s=5)"
   ]
  },
  {
   "cell_type": "code",
   "execution_count": 171,
   "metadata": {},
   "outputs": [
    {
     "name": "stdout",
     "output_type": "stream",
     "text": [
      "Epoch 1, Loss: 0.5266\n",
      "Epoch 100, Loss: 0.0247\n",
      "Epoch 200, Loss: 0.0182\n",
      "Epoch 300, Loss: 0.0144\n",
      "Epoch 400, Loss: 0.0122\n",
      "Epoch 500, Loss: 0.0109\n",
      "Epoch 600, Loss: 0.0101\n",
      "Epoch 700, Loss: 0.0096\n",
      "Epoch 800, Loss: 0.0093\n",
      "Epoch 900, Loss: 0.0092\n",
      "Epoch 1000, Loss: 0.0091\n"
     ]
    },
    {
     "data": {
      "text/plain": [
       "('Slope: ', 0.7362634968026746, 'Intercept: ', 0.15406088689255093)"
      ]
     },
     "execution_count": 171,
     "metadata": {},
     "output_type": "execute_result"
    }
   ],
   "source": [
    "\n",
    "# declaring Linear_Regression\n",
    "class My_Linear_Regression: \n",
    "\n",
    "    def __init__(self, m = None , c = None, loss = 0): \n",
    "        self.m = random.uniform(0,1)\n",
    "        self.c = random.uniform(0,1)\n",
    "        self.loss = loss \n",
    "\n",
    "\n",
    "    def fit(self, X_train , y_train, alpha = 0.001, epochs = 10):\n",
    "        \n",
    "        # Normalizing\n",
    "        X_train = X_train / X_train.max()\n",
    "        \n",
    "        data_size = len(X_train)\n",
    "        # itretion\n",
    "        for epoch in range(epochs):\n",
    "            self.loss = 0\n",
    "            y_pred_list = []\n",
    "            \n",
    "            # forward propgation\n",
    "            for i in range(data_size): \n",
    "                X = X_train.iloc[i]\n",
    "                y_pred = self.m * X + self.c \n",
    "                y_pred_list.append(y_pred)\n",
    "                error = (y_train.iloc[i] - y_pred)**2\n",
    "                self.loss+=error\n",
    "                \n",
    "            self.loss = self.loss / data_size\n",
    "            # printing loss\n",
    "            if epoch == 0:\n",
    "                print(f\"Epoch {epoch + 1}, Loss: {self.loss:.4f}\")\n",
    "            if (epoch + 1) % 100 == 0:\n",
    "                print(f\"Epoch {epoch + 1}, Loss: {self.loss:.4f}\")\n",
    "    \n",
    "            # gradient for m & c\n",
    "            m_sum = 0\n",
    "            c_sum = 0\n",
    "            \n",
    "            for i in range(data_size): \n",
    "                X_actual = X_train.iloc[i]\n",
    "                y_actual = y_train.iloc[i]\n",
    "                y_pred = y_pred_list[i]\n",
    "                \n",
    "                m_sum += X_actual*(y_actual - y_pred)\n",
    "                c_sum += (y_actual - y_pred)\n",
    "                \n",
    "            # gradients    \n",
    "            tangent_gradient_m = - (2/data_size) * m_sum            \n",
    "            tangent_gradient_c = - (2/data_size) * c_sum\n",
    "    \n",
    "            # updating parameters \n",
    "            self.m = self.m - alpha * tangent_gradient_m\n",
    "            self.c = self.c - alpha * tangent_gradient_c\n",
    "            \n",
    "        return \"Slope: \",self.m , \"Intercept: \",self.c\n",
    "            \n",
    "model = My_Linear_Regression()       \n",
    "model.fit(df['x_data'], df['y_data'],alpha=0.02, epochs=1000)      \n"
   ]
  },
  {
   "cell_type": "markdown",
   "metadata": {},
   "source": [
    "# Cross check with sklearn LinearRegression function"
   ]
  },
  {
   "cell_type": "code",
   "execution_count": 168,
   "metadata": {},
   "outputs": [
    {
     "name": "stdout",
     "output_type": "stream",
     "text": [
      "Epoch 100, Loss: 0.0155\n",
      "Epoch 200, Loss: 0.0127\n",
      "Epoch 300, Loss: 0.0117\n",
      "Epoch 400, Loss: 0.0113\n",
      "Epoch 500, Loss: 0.0110\n",
      "Epoch 600, Loss: 0.0109\n",
      "Epoch 700, Loss: 0.0109\n",
      "Epoch 800, Loss: 0.0108\n",
      "Epoch 900, Loss: 0.0108\n",
      "Epoch 1000, Loss: 0.0108\n",
      "Slope: [0.6279558] , Intercept: [0.2104307]\n"
     ]
    }
   ],
   "source": [
    "\n",
    "scaler = MinMaxScaler()\n",
    "\n",
    "df[['x_data']] = scaler.fit_transform(df[['x_data']])\n",
    "\n",
    "X = df[['x_data']]  \n",
    "y = df['y_data']  \n",
    "\n",
    "model = SGDRegressor(\n",
    "    alpha=0.02,       \n",
    "    max_iter=1,       \n",
    "    warm_start=True,  \n",
    "    random_state=42\n",
    ")\n",
    "\n",
    "epochs = 1000\n",
    "\n",
    "for epoch in range(epochs):\n",
    "    \n",
    "    model.partial_fit(X, y)\n",
    "    y_pred = model.predict(X)\n",
    "    loss = mean_squared_error(y, y_pred)\n",
    "\n",
    "    if (epoch + 1) % 100 == 0:  \n",
    "        print(f\"Epoch {epoch + 1}, Loss: {loss:.4f}\")\n",
    "\n",
    "print(f'Slope: {model.coef_} , Intercept: {model.intercept_}')"
   ]
  },
  {
   "cell_type": "code",
   "execution_count": null,
   "metadata": {},
   "outputs": [],
   "source": []
  }
 ],
 "metadata": {
  "kernelspec": {
   "display_name": "Python 3",
   "language": "python",
   "name": "python3"
  },
  "language_info": {
   "codemirror_mode": {
    "name": "ipython",
    "version": 3
   },
   "file_extension": ".py",
   "mimetype": "text/x-python",
   "name": "python",
   "nbconvert_exporter": "python",
   "pygments_lexer": "ipython3",
   "version": "3.11.9"
  }
 },
 "nbformat": 4,
 "nbformat_minor": 4
}
