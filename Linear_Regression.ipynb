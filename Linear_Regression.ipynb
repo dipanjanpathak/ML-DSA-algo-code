{
 "cells": [
  {
   "cell_type": "code",
   "execution_count": 1,
   "metadata": {},
   "outputs": [],
   "source": [
    "import random\n",
    "import pandas as pd \n",
    "import matplotlib.pyplot as plt \n",
    "import functools\n",
    "import numpy as np"
   ]
  },
  {
   "cell_type": "code",
   "execution_count": 2,
   "metadata": {},
   "outputs": [],
   "source": [
    "# generating the dataset\n",
    "def generate_data():\n",
    "    x_data = []\n",
    "    y_data = []\n",
    "    \n",
    "    m = 5\n",
    "    c = 10\n",
    "    for i in range(0, 100):\n",
    "        x = random.randint(1, 100)       \n",
    "        x_data.append(x) \n",
    "        \n",
    "        y = m*x + c + random.randint(-20,20)\n",
    "        y_data.append(y)\n",
    "\n",
    "    data = pd.DataFrame({'x_data' : x_data,'y_data' : y_data})\n",
    "    return data\n",
    "\n",
    "\n",
    "df = generate_data()\n",
    "\n"
   ]
  },
  {
   "cell_type": "code",
   "execution_count": 3,
   "metadata": {},
   "outputs": [
    {
     "data": {
      "text/html": [
       "<div>\n",
       "<style scoped>\n",
       "    .dataframe tbody tr th:only-of-type {\n",
       "        vertical-align: middle;\n",
       "    }\n",
       "\n",
       "    .dataframe tbody tr th {\n",
       "        vertical-align: top;\n",
       "    }\n",
       "\n",
       "    .dataframe thead th {\n",
       "        text-align: right;\n",
       "    }\n",
       "</style>\n",
       "<table border=\"1\" class=\"dataframe\">\n",
       "  <thead>\n",
       "    <tr style=\"text-align: right;\">\n",
       "      <th></th>\n",
       "      <th>x_data</th>\n",
       "      <th>y_data</th>\n",
       "    </tr>\n",
       "  </thead>\n",
       "  <tbody>\n",
       "    <tr>\n",
       "      <th>0</th>\n",
       "      <td>13</td>\n",
       "      <td>88</td>\n",
       "    </tr>\n",
       "    <tr>\n",
       "      <th>1</th>\n",
       "      <td>49</td>\n",
       "      <td>273</td>\n",
       "    </tr>\n",
       "    <tr>\n",
       "      <th>2</th>\n",
       "      <td>60</td>\n",
       "      <td>305</td>\n",
       "    </tr>\n",
       "    <tr>\n",
       "      <th>3</th>\n",
       "      <td>47</td>\n",
       "      <td>257</td>\n",
       "    </tr>\n",
       "    <tr>\n",
       "      <th>4</th>\n",
       "      <td>7</td>\n",
       "      <td>58</td>\n",
       "    </tr>\n",
       "  </tbody>\n",
       "</table>\n",
       "</div>"
      ],
      "text/plain": [
       "   x_data  y_data\n",
       "0      13      88\n",
       "1      49     273\n",
       "2      60     305\n",
       "3      47     257\n",
       "4       7      58"
      ]
     },
     "execution_count": 3,
     "metadata": {},
     "output_type": "execute_result"
    }
   ],
   "source": [
    "df.head()"
   ]
  },
  {
   "cell_type": "code",
   "execution_count": 4,
   "metadata": {},
   "outputs": [
    {
     "data": {
      "text/plain": [
       "99"
      ]
     },
     "execution_count": 4,
     "metadata": {},
     "output_type": "execute_result"
    }
   ],
   "source": [
    "df['x_data'].max()"
   ]
  },
  {
   "cell_type": "code",
   "execution_count": 5,
   "metadata": {},
   "outputs": [
    {
     "data": {
      "text/plain": [
       "508"
      ]
     },
     "execution_count": 5,
     "metadata": {},
     "output_type": "execute_result"
    }
   ],
   "source": [
    "df['y_data'].max()"
   ]
  },
  {
   "cell_type": "code",
   "execution_count": 6,
   "metadata": {},
   "outputs": [
    {
     "data": {
      "text/plain": [
       "<matplotlib.collections.PathCollection at 0x1b1f927f050>"
      ]
     },
     "execution_count": 6,
     "metadata": {},
     "output_type": "execute_result"
    },
    {
     "data": {
      "image/png": "[encoded data removed]",
      "text/plain": [
       "<Figure size 640x480 with 1 Axes>"
      ]
     },
     "metadata": {},
     "output_type": "display_data"
    }
   ],
   "source": [
    "plt.scatter(df['x_data'], df['y_data'])"
   ]
  },
  {
   "cell_type": "code",
   "execution_count": 8,
   "metadata": {},
   "outputs": [
    {
     "name": "stdout",
     "output_type": "stream",
     "text": [
      "Epoch 1, Loss: 0.06371313171999074\n",
      "Epoch 100, Loss: 0.02105069767388983\n",
      "Epoch 200, Loss: 0.011985863383237618\n",
      "Epoch 300, Loss: 0.006931493909413706\n",
      "Epoch 400, Loss: 0.004113028285327771\n",
      "Epoch 500, Loss: 0.002541368645116425\n",
      "Epoch 600, Loss: 0.0016649648303738206\n",
      "Epoch 700, Loss: 0.0011762561896199628\n",
      "Epoch 800, Loss: 0.0009037378236226276\n",
      "Epoch 900, Loss: 0.0007517735373122902\n",
      "Epoch 1000, Loss: 0.0006670337648962266\n"
     ]
    },
    {
     "data": {
      "text/plain": [
       "('Slope: ', 0.9312728632123072, 'Intercept: ', 0.04197023886998502)"
      ]
     },
     "execution_count": 8,
     "metadata": {},
     "output_type": "execute_result"
    }
   ],
   "source": [
    "\n",
    "# declaring Linear_Regression\n",
    "class Linear_Regression: \n",
    "\n",
    "    def __init__(self, m = None , c = None, loss = 0): \n",
    "        self.m = random.uniform(0,1)\n",
    "        self.c = random.uniform(0,1)\n",
    "        self.loss = loss \n",
    "\n",
    "\n",
    "    def fit(self, X_train , y_train, alpha = 0.001, epochs = 10):\n",
    "        # Normalizing\n",
    "        X_train = X_train / X_train.max()\n",
    "        y_train = y_train / y_train.max()\n",
    "        \n",
    "        data_size = len(X_train)\n",
    "        # itretion\n",
    "        for epoch in range(epochs):\n",
    "            self.loss = 0\n",
    "            y_pred_list = []\n",
    "            \n",
    "            # forward propgation\n",
    "            for i in range(data_size): \n",
    "                X = X_train.iloc[i]\n",
    "                y_pred = self.m * X + self.c \n",
    "                y_pred_list.append(y_pred)\n",
    "                error = (y_train.iloc[i] - y_pred)**2\n",
    "                self.loss+=error\n",
    "                \n",
    "            self.loss = self.loss / data_size\n",
    "            # printing loss\n",
    "            if epoch == 0:\n",
    "                print(f\"Epoch {epoch + 1}, Loss: {self.loss}\")\n",
    "            if (epoch + 1) % 100 == 0:\n",
    "                print(f\"Epoch {epoch + 1}, Loss: {self.loss}\")\n",
    "    \n",
    "            # gradient for m & c\n",
    "            m_sum = 0\n",
    "            c_sum = 0\n",
    "            \n",
    "            for i in range(data_size): \n",
    "                X_actual = X_train.iloc[i]\n",
    "                y_actual = y_train.iloc[i]\n",
    "                y_pred = y_pred_list[i]\n",
    "                \n",
    "                m_sum += X_actual*(y_actual - y_pred)\n",
    "                c_sum += (y_actual - y_pred)\n",
    "                \n",
    "            # gradients    \n",
    "            tangent_gradient_m = - (2/data_size) * m_sum            \n",
    "            tangent_gradient_c = - (2/data_size) * c_sum\n",
    "    \n",
    "            # updating parameters \n",
    "            self.m = self.m - alpha * tangent_gradient_m\n",
    "            self.c = self.c - alpha * tangent_gradient_c\n",
    "            \n",
    "        return \"Slope: \",self.m , \"Intercept: \",self.c\n",
    "            \n",
    "model = Linear_Regression()       \n",
    "model.fit(df['x_data'], df['y_data'],alpha=0.02, epochs=1000)      \n"
   ]
  },
  {
   "cell_type": "code",
   "execution_count": null,
   "metadata": {},
   "outputs": [],
   "source": []
  }
 ],
 "metadata": {
  "kernelspec": {
   "display_name": "Python 3",
   "language": "python",
   "name": "python3"
  },
  "language_info": {
   "codemirror_mode": {
    "name": "ipython",
    "version": 3
   },
   "file_extension": ".py",
   "mimetype": "text/x-python",
   "name": "python",
   "nbconvert_exporter": "python",
   "pygments_lexer": "ipython3",
   "version": "3.11.9"
  }
 },
 "nbformat": 4,
 "nbformat_minor": 4
}
